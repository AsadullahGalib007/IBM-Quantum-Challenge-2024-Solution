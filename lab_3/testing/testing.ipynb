{
 "cells": [
  {
   "cell_type": "code",
   "execution_count": 1,
   "metadata": {},
   "outputs": [
    {
     "name": "stderr",
     "output_type": "stream",
     "text": [
      "2024-06-11 17:27:49,398\tINFO worker.py:1744 -- Started a local Ray instance. View the dashboard at \u001b[1m\u001b[32m127.0.0.1:8266 \u001b[39m\u001b[22m\n",
      "WARNING:root:Results will be saved as logs sincethere is no information about theauthorization token in the environment.\n"
     ]
    },
    {
     "name": "stdout",
     "output_type": "stream",
     "text": [
      "\n",
      "Saved Result:{\"quasi_dists\": []}:End Saved Result\n",
      "\n"
     ]
    },
    {
     "data": {
      "text/plain": [
       "False"
      ]
     },
     "execution_count": 1,
     "metadata": {},
     "output_type": "execute_result"
    }
   ],
   "source": [
    "from qiskit_serverless import distribute_task, get, get_arguments, save_result\n",
    "\n",
    "from qiskit import QuantumCircuit\n",
    "from qiskit.circuit.random import random_circuit\n",
    "from qiskit.primitives import Sampler\n",
    "from qiskit.quantum_info import SparsePauliOp\n",
    "\n",
    "   # 1. let's annotate out function to convert it\n",
    "   # to distributed async function\n",
    "   # using `distribute_task` decorator\n",
    "@distribute_task()\n",
    "def distributed_sample(circuit: QuantumCircuit):\n",
    "    \"\"\"Calculates quasi dists as a distributed function.\"\"\"\n",
    "    return Sampler().run(circuit).result().quasi_dists[0]\n",
    "\n",
    "\n",
    "   # 2. our program will have one arguments\n",
    "   # `circuits` which will store list of circuits\n",
    "   # we want to sample in parallel.\n",
    "   # Let's use `get_arguments` funciton\n",
    "   # to access all program arguments\n",
    "arguments = get_arguments()\n",
    "circuits = arguments.get(\"circuits\", [])\n",
    "\n",
    "   # 3. run our functions in a loop\n",
    "   # and get execution references back\n",
    "function_references = [\n",
    "    distributed_sample(circuit)\n",
    "    for circuit in circuits\n",
    "]\n",
    "\n",
    "   # 4. `get` function will collect all\n",
    "   # results from distributed functions\n",
    "collected_results = get(function_references)\n",
    "\n",
    "   # 5. `save_result` will save results of program execution\n",
    "   # so we can access it later\n",
    "save_result({\n",
    "       \"quasi_dists\": collected_results\n",
    "   })"
   ]
  },
  {
   "cell_type": "code",
   "execution_count": 4,
   "metadata": {},
   "outputs": [
    {
     "data": {
      "text/plain": [
       "[]"
      ]
     },
     "execution_count": 4,
     "metadata": {},
     "output_type": "execute_result"
    }
   ],
   "source": [
    "collected_results"
   ]
  },
  {
   "cell_type": "code",
   "execution_count": 2,
   "metadata": {},
   "outputs": [],
   "source": [
    "from qiskit_serverless import ServerlessProvider, QiskitPattern, IBMServerlessClient\n",
    "from qiskit.circuit.random import random_circuit\n",
    "client = IBMServerlessClient(\"778e534196f1d6f0fe095acebdf29111a9e7000fd01abf005f0e35b12f882abb80af72a80589d42e6b487cea9332277ae2beb5638a5009e30ae1c00d012180a3\") # Add in your IBM Quantum Token to QiskitServerless Client\n",
    "\n",
    "# serverless = ServerlessProvider(\n",
    "#        username=\"<USERNAME>\", \n",
    "#        password=\"<PASSWORD>\",\n",
    "#        host=\"<GATEWAY_ADDRESS>\",\n",
    "#    )\n",
    "\n",
    "   # create program\n",
    "program = QiskitPattern(\n",
    "       title=\"transpile_parallel\",\n",
    "       entrypoint=\"transpile_parallel.py\",\n",
    "       working_dir=\"../transpile_parallel/\"\n",
    "   )\n",
    "\n",
    "   # create inputs to our program\n",
    "circuits = []\n",
    "for _ in range(3):\n",
    "    circuit = random_circuit(3, 2)\n",
    "    circuit.measure_all()\n",
    "    circuits.append(circuit)\n",
    "\n",
    "   # run program\n",
    "job = client.run(\n",
    "       program=program,\n",
    "       arguments={\n",
    "           \"circuits\": circuits\n",
    "       }\n",
    ")"
   ]
  },
  {
   "cell_type": "code",
   "execution_count": 3,
   "metadata": {},
   "outputs": [
    {
     "data": {
      "text/plain": [
       "<Job | 5f25cd32-6277-4040-9d52-5aaa86f36edf>"
      ]
     },
     "execution_count": 3,
     "metadata": {},
     "output_type": "execute_result"
    }
   ],
   "source": [
    "job"
   ]
  },
  {
   "cell_type": "code",
   "execution_count": null,
   "metadata": {},
   "outputs": [],
   "source": []
  }
 ],
 "metadata": {
  "kernelspec": {
   "display_name": "qc",
   "language": "python",
   "name": "python3"
  },
  "language_info": {
   "codemirror_mode": {
    "name": "ipython",
    "version": 3
   },
   "file_extension": ".py",
   "mimetype": "text/x-python",
   "name": "python",
   "nbconvert_exporter": "python",
   "pygments_lexer": "ipython3",
   "version": "3.10.14"
  }
 },
 "nbformat": 4,
 "nbformat_minor": 2
}
